{
 "cells": [
  {
   "cell_type": "code",
   "execution_count": 1,
   "id": "65d2ef73",
   "metadata": {},
   "outputs": [],
   "source": [
    "import omnixai\n",
    "import numpy as np\n",
    "import pandas as pd"
   ]
  },
  {
   "cell_type": "code",
   "execution_count": 76,
   "id": "d3cb2dc3",
   "metadata": {},
   "outputs": [
    {
     "name": "stdout",
     "output_type": "stream",
     "text": [
      "   a  b  c       d label\n",
      "0  1  2  3    male   yes\n",
      "1  4  5  6  female    no\n",
      "2  4  2  1    both    no\n"
     ]
    }
   ],
   "source": [
    "df = pd.DataFrame(\n",
    "    data=[[1, 2, 3, 'male', 'yes'], [4, 5, 6, 'female', 'no'], [4, 2, 1, 'both', 'no']],\n",
    "    columns=['a', 'b', 'c', 'd', 'label']\n",
    ")\n",
    "\n",
    "from omnixai.data.tabular import Tabular\n",
    "\n",
    "x = Tabular(\n",
    "    data=df,\n",
    "    categorical_columns=['d'],\n",
    "    target_column='label'\n",
    ")\n",
    "print(x)"
   ]
  },
  {
   "cell_type": "code",
   "execution_count": 91,
   "id": "1cc9b797",
   "metadata": {},
   "outputs": [],
   "source": [
    "from omnixai.preprocessing.tabular import TabularTransform\n",
    "from omnixai.preprocessing.encode import OneHot, Ordinal, LabelEncoder\n",
    "from omnixai.preprocessing.normalize import MinMax, Standard\n",
    "\n",
    "# One-hot encoding for categorical features\n",
    "# Min-max normalization for continuous-valued features\n",
    "# Label encoding for the target\n",
    "transform2 = TabularTransform(\n",
    "    cate_transform=OneHot(),\n",
    "    #cont_transform=MinMax(),\n",
    "    target_transform=LabelEncoder()\n",
    ")"
   ]
  },
  {
   "cell_type": "code",
   "execution_count": 93,
   "id": "1ed6472e",
   "metadata": {},
   "outputs": [
    {
     "name": "stdout",
     "output_type": "stream",
     "text": [
      "[[0. 0. 1. 1. 2. 3. 1.]\n",
      " [0. 1. 0. 4. 5. 6. 0.]\n",
      " [1. 0. 0. 4. 2. 1. 0.]]\n"
     ]
    }
   ],
   "source": [
    "# Transform\n",
    "y = transform2.fit(x).transform(x)\n",
    "print(y)"
   ]
  },
  {
   "cell_type": "code",
   "execution_count": 98,
   "id": "205f0245",
   "metadata": {},
   "outputs": [
    {
     "name": "stdout",
     "output_type": "stream",
     "text": [
      "['d_both', 'd_female', 'd_male', 'a', 'b', 'c']\n"
     ]
    }
   ],
   "source": [
    "f = transform2.get_feature_names()\n",
    "print(f)"
   ]
  },
  {
   "cell_type": "code",
   "execution_count": null,
   "id": "422b54e2",
   "metadata": {},
   "outputs": [],
   "source": []
  }
 ],
 "metadata": {
  "kernelspec": {
   "display_name": "Python 3",
   "language": "python",
   "name": "python3"
  },
  "language_info": {
   "codemirror_mode": {
    "name": "ipython",
    "version": 3
   },
   "file_extension": ".py",
   "mimetype": "text/x-python",
   "name": "python",
   "nbconvert_exporter": "python",
   "pygments_lexer": "ipython3",
   "version": "3.7.6"
  }
 },
 "nbformat": 4,
 "nbformat_minor": 5
}
